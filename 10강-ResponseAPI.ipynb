{
  "nbformat": 4,
  "nbformat_minor": 0,
  "metadata": {
    "colab": {
      "provenance": []
    },
    "kernelspec": {
      "name": "python3",
      "display_name": "Python 3"
    },
    "language_info": {
      "name": "python"
    }
  },
  "cells": [
    {
      "cell_type": "markdown",
      "source": [
        "###OpenAI Responses API 활용해서 헬스케어 서비스 만들기\n",
        "이 튜토리얼에서는 OpenAI의 최신 Responses API를 사용하여 다양한 AI 기능을 구현하는 방법을 배웁니다"
      ],
      "metadata": {
        "id": "yUJUpzN_0VgC"
      }
    },
    {
      "cell_type": "code",
      "execution_count": null,
      "metadata": {
        "colab": {
          "base_uri": "https://localhost:8080/"
        },
        "id": "QnOYWbEMzbGR",
        "outputId": "b9e2368e-132c-458a-bf63-429eb56c098a"
      },
      "outputs": [
        {
          "name": "stdout",
          "output_type": "stream",
          "text": [
            "Requirement already satisfied: openai in /usr/local/lib/python3.11/dist-packages (1.75.0)\n",
            "Collecting openai\n",
            "  Downloading openai-1.76.0-py3-none-any.whl.metadata (25 kB)\n",
            "Requirement already satisfied: anyio<5,>=3.5.0 in /usr/local/lib/python3.11/dist-packages (from openai) (4.9.0)\n",
            "Requirement already satisfied: distro<2,>=1.7.0 in /usr/local/lib/python3.11/dist-packages (from openai) (1.9.0)\n",
            "Requirement already satisfied: httpx<1,>=0.23.0 in /usr/local/lib/python3.11/dist-packages (from openai) (0.28.1)\n",
            "Requirement already satisfied: jiter<1,>=0.4.0 in /usr/local/lib/python3.11/dist-packages (from openai) (0.9.0)\n",
            "Requirement already satisfied: pydantic<3,>=1.9.0 in /usr/local/lib/python3.11/dist-packages (from openai) (2.11.3)\n",
            "Requirement already satisfied: sniffio in /usr/local/lib/python3.11/dist-packages (from openai) (1.3.1)\n",
            "Requirement already satisfied: tqdm>4 in /usr/local/lib/python3.11/dist-packages (from openai) (4.67.1)\n",
            "Requirement already satisfied: typing-extensions<5,>=4.11 in /usr/local/lib/python3.11/dist-packages (from openai) (4.13.2)\n",
            "Requirement already satisfied: idna>=2.8 in /usr/local/lib/python3.11/dist-packages (from anyio<5,>=3.5.0->openai) (3.10)\n",
            "Requirement already satisfied: certifi in /usr/local/lib/python3.11/dist-packages (from httpx<1,>=0.23.0->openai) (2025.1.31)\n",
            "Requirement already satisfied: httpcore==1.* in /usr/local/lib/python3.11/dist-packages (from httpx<1,>=0.23.0->openai) (1.0.8)\n",
            "Requirement already satisfied: h11<0.15,>=0.13 in /usr/local/lib/python3.11/dist-packages (from httpcore==1.*->httpx<1,>=0.23.0->openai) (0.14.0)\n",
            "Requirement already satisfied: annotated-types>=0.6.0 in /usr/local/lib/python3.11/dist-packages (from pydantic<3,>=1.9.0->openai) (0.7.0)\n",
            "Requirement already satisfied: pydantic-core==2.33.1 in /usr/local/lib/python3.11/dist-packages (from pydantic<3,>=1.9.0->openai) (2.33.1)\n",
            "Requirement already satisfied: typing-inspection>=0.4.0 in /usr/local/lib/python3.11/dist-packages (from pydantic<3,>=1.9.0->openai) (0.4.0)\n",
            "Downloading openai-1.76.0-py3-none-any.whl (661 kB)\n",
            "\u001b[2K   \u001b[90m━━━━━━━━━━━━━━━━━━━━━━━━━━━━━━━━━━━━━━━━\u001b[0m \u001b[32m661.2/661.2 kB\u001b[0m \u001b[31m15.2 MB/s\u001b[0m eta \u001b[36m0:00:00\u001b[0m\n",
            "\u001b[?25hInstalling collected packages: openai\n",
            "  Attempting uninstall: openai\n",
            "    Found existing installation: openai 1.75.0\n",
            "    Uninstalling openai-1.75.0:\n",
            "      Successfully uninstalled openai-1.75.0\n",
            "Successfully installed openai-1.76.0\n",
            "OpenAI API 키를 입력하세요: ··········\n"
          ]
        }
      ],
      "source": [
        "!pip install --upgrade openai\n",
        "#리로드해야함\n",
        "\n",
        "\n",
        "import openai\n",
        "import os\n",
        "from getpass import getpass\n",
        "# 클라이언트 생성 시 api_key 매개변수로 API 키 전달\n",
        "\n",
        "\n",
        "os.environ[\"OPENAI_API_KEY\"] = getpass(\"OpenAI API 키를 입력하세요: \")\n",
        "client = openai.OpenAI()\n"
      ]
    },
    {
      "cell_type": "code",
      "source": [
        "# 필요한 라이브러리 설치\n",
        "!pip install openai plotly pandas matplotlib\n",
        "\n",
        "# OpenAI 패키지 가져오기\n",
        "import os\n",
        "import json\n",
        "import pandas as pd\n",
        "import matplotlib.pyplot as plt\n",
        "import plotly.express as px\n",
        "from IPython.display import display, HTML, Markdown"
      ],
      "metadata": {
        "colab": {
          "base_uri": "https://localhost:8080/"
        },
        "id": "nddanTzbpOlV",
        "outputId": "907cc308-be2d-4565-d421-7c245a48b3a6"
      },
      "execution_count": null,
      "outputs": [
        {
          "output_type": "stream",
          "name": "stdout",
          "text": [
            "Requirement already satisfied: openai in /usr/local/lib/python3.11/dist-packages (1.76.0)\n",
            "Requirement already satisfied: plotly in /usr/local/lib/python3.11/dist-packages (5.24.1)\n",
            "Requirement already satisfied: pandas in /usr/local/lib/python3.11/dist-packages (2.2.2)\n",
            "Requirement already satisfied: matplotlib in /usr/local/lib/python3.11/dist-packages (3.10.0)\n",
            "Requirement already satisfied: anyio<5,>=3.5.0 in /usr/local/lib/python3.11/dist-packages (from openai) (4.9.0)\n",
            "Requirement already satisfied: distro<2,>=1.7.0 in /usr/local/lib/python3.11/dist-packages (from openai) (1.9.0)\n",
            "Requirement already satisfied: httpx<1,>=0.23.0 in /usr/local/lib/python3.11/dist-packages (from openai) (0.28.1)\n",
            "Requirement already satisfied: jiter<1,>=0.4.0 in /usr/local/lib/python3.11/dist-packages (from openai) (0.9.0)\n",
            "Requirement already satisfied: pydantic<3,>=1.9.0 in /usr/local/lib/python3.11/dist-packages (from openai) (2.11.3)\n",
            "Requirement already satisfied: sniffio in /usr/local/lib/python3.11/dist-packages (from openai) (1.3.1)\n",
            "Requirement already satisfied: tqdm>4 in /usr/local/lib/python3.11/dist-packages (from openai) (4.67.1)\n",
            "Requirement already satisfied: typing-extensions<5,>=4.11 in /usr/local/lib/python3.11/dist-packages (from openai) (4.13.2)\n",
            "Requirement already satisfied: tenacity>=6.2.0 in /usr/local/lib/python3.11/dist-packages (from plotly) (9.1.2)\n",
            "Requirement already satisfied: packaging in /usr/local/lib/python3.11/dist-packages (from plotly) (24.2)\n",
            "Requirement already satisfied: numpy>=1.23.2 in /usr/local/lib/python3.11/dist-packages (from pandas) (2.0.2)\n",
            "Requirement already satisfied: python-dateutil>=2.8.2 in /usr/local/lib/python3.11/dist-packages (from pandas) (2.8.2)\n",
            "Requirement already satisfied: pytz>=2020.1 in /usr/local/lib/python3.11/dist-packages (from pandas) (2025.2)\n",
            "Requirement already satisfied: tzdata>=2022.7 in /usr/local/lib/python3.11/dist-packages (from pandas) (2025.2)\n",
            "Requirement already satisfied: contourpy>=1.0.1 in /usr/local/lib/python3.11/dist-packages (from matplotlib) (1.3.2)\n",
            "Requirement already satisfied: cycler>=0.10 in /usr/local/lib/python3.11/dist-packages (from matplotlib) (0.12.1)\n",
            "Requirement already satisfied: fonttools>=4.22.0 in /usr/local/lib/python3.11/dist-packages (from matplotlib) (4.57.0)\n",
            "Requirement already satisfied: kiwisolver>=1.3.1 in /usr/local/lib/python3.11/dist-packages (from matplotlib) (1.4.8)\n",
            "Requirement already satisfied: pillow>=8 in /usr/local/lib/python3.11/dist-packages (from matplotlib) (11.1.0)\n",
            "Requirement already satisfied: pyparsing>=2.3.1 in /usr/local/lib/python3.11/dist-packages (from matplotlib) (3.2.3)\n",
            "Requirement already satisfied: idna>=2.8 in /usr/local/lib/python3.11/dist-packages (from anyio<5,>=3.5.0->openai) (3.10)\n",
            "Requirement already satisfied: certifi in /usr/local/lib/python3.11/dist-packages (from httpx<1,>=0.23.0->openai) (2025.1.31)\n",
            "Requirement already satisfied: httpcore==1.* in /usr/local/lib/python3.11/dist-packages (from httpx<1,>=0.23.0->openai) (1.0.8)\n",
            "Requirement already satisfied: h11<0.15,>=0.13 in /usr/local/lib/python3.11/dist-packages (from httpcore==1.*->httpx<1,>=0.23.0->openai) (0.14.0)\n",
            "Requirement already satisfied: annotated-types>=0.6.0 in /usr/local/lib/python3.11/dist-packages (from pydantic<3,>=1.9.0->openai) (0.7.0)\n",
            "Requirement already satisfied: pydantic-core==2.33.1 in /usr/local/lib/python3.11/dist-packages (from pydantic<3,>=1.9.0->openai) (2.33.1)\n",
            "Requirement already satisfied: typing-inspection>=0.4.0 in /usr/local/lib/python3.11/dist-packages (from pydantic<3,>=1.9.0->openai) (0.4.0)\n",
            "Requirement already satisfied: six>=1.5 in /usr/local/lib/python3.11/dist-packages (from python-dateutil>=2.8.2->pandas) (1.17.0)\n"
          ]
        }
      ]
    },
    {
      "cell_type": "markdown",
      "source": [
        "#1️⃣ 기본 텍스트\n",
        " 응답 생성하기\n",
        "가장 기본적인 Responses API 호출부터 시작해보겠습니다. 이 예제에서는 모델에게 질문하고 텍스트 응답을 받습니다."
      ],
      "metadata": {
        "id": "4BQ8E4WMw6a3"
      }
    },
    {
      "cell_type": "code",
      "source": [
        "# 기본적인 텍스트 응답 생성하기\n",
        "response = client.responses.create(\n",
        "    model=\"gpt-4o\",  # 최신 모델 사용\n",
        "    input=\"건강한 음식은 뭐야?\"\n",
        ")\n",
        "\n",
        "# 응답 출력\n",
        "print(response.output_text)"
      ],
      "metadata": {
        "colab": {
          "base_uri": "https://localhost:8080/"
        },
        "id": "ZVxPoog61Ggu",
        "outputId": "c50741ba-ae55-4514-be6a-6d57eb58d07d"
      },
      "execution_count": null,
      "outputs": [
        {
          "output_type": "stream",
          "name": "stdout",
          "text": [
            "건강한 음식은 신체에 필요한 영양소를 적절히 공급하면서 전반적인 건강을 증진하는 음식입니다. 다음은 건강한 음식의 몇 가지 예입니다:\n",
            "\n",
            "1. **채소와 과일**: 비타민, 미네랄, 식이섬유가 풍부합니다.\n",
            "2. **통곡물**: 현미, 귀리, 보리 등 정제되지 않은 곡물로, 식이섬유와 영양소가 많습니다.\n",
            "3. **단백질**: 닭 가슴살, 생선, 두부, 콩류 등 다양한 소스를 통해 섭취할 수 있습니다.\n",
            "4. **건강한 지방**: 아보카도, 올리브 오일, 견과류와 같은 불포화 지방은 심장 건강에 도움을 줍니다.\n",
            "5. **유제품**: 무지방 또는 저지방 요구르트, 우유 등 칼슘과 비타민 D가 풍부합니다.\n",
            "\n",
            "균형 잡힌 식단을 유지하고, 가공식품과 설탕, 나트륨이 많은 음식을 피하는 것이 중요합니다.\n"
          ]
        }
      ]
    },
    {
      "cell_type": "markdown",
      "source": [
        "응답 객체 살펴보기!\n",
        "\n",
        "Responses API는 단순한 텍스트 외에도 다양한 메타데이터를 제공합니다. 토큰 사용량 등 유용한 정보를 확인해보세요."
      ],
      "metadata": {
        "id": "oo_yLLQCA1V-"
      }
    },
    {
      "cell_type": "code",
      "source": [
        "print(\"인공지능 모델.\", response.model)\n"
      ],
      "metadata": {
        "colab": {
          "base_uri": "https://localhost:8080/"
        },
        "id": "dDRrXng7RB18",
        "outputId": "b27977c0-d4d7-4d49-b79d-3b95417df39d"
      },
      "execution_count": null,
      "outputs": [
        {
          "output_type": "stream",
          "name": "stdout",
          "text": [
            "문자를 넣을수가 있습니다. gpt-4o-2024-08-06\n"
          ]
        }
      ]
    },
    {
      "cell_type": "code",
      "source": [
        "# 응답 객체의 구조 확인하기\n",
        "print(\"응답 ID:\", response.id)\n",
        "print(\"모델:\", response.model)\n",
        "print(\"생성 시간:\", response.created_at)\n",
        "print(\"\\n토큰 사용량:\")\n",
        "print(f\"입력 토큰: {response.usage.input_tokens}\")\n",
        "print(f\"출력 토큰: {response.usage.output_tokens}\")\n",
        "print(f\"총 토큰: {response.usage.total_tokens}\")"
      ],
      "metadata": {
        "id": "goY_9EM9HnzH",
        "colab": {
          "base_uri": "https://localhost:8080/"
        },
        "outputId": "d77e0806-b3d7-4cfb-df2d-7022deeed8fc"
      },
      "execution_count": null,
      "outputs": [
        {
          "output_type": "stream",
          "name": "stdout",
          "text": [
            "응답 ID: resp_680b8e3c5b1c81929f92af98c56fecf502200983462a6885\n",
            "모델: gpt-4o-2024-08-06\n",
            "생성 시간: 1745587772.0\n",
            "\n",
            "토큰 사용량:\n",
            "입력 토큰: 3298\n",
            "출력 토큰: 873\n",
            "총 토큰: 4171\n"
          ]
        }
      ]
    },
    {
      "cell_type": "markdown",
      "source": [
        "# 2️⃣ 이미지 분석하기\n",
        "Responses API는 텍스트뿐만 아니라 이미지 입력도 처리할 수 있습니다. 이 예제에서는 이미지를 분석하고 설명을 생성합니다."
      ],
      "metadata": {
        "id": "6NPxccdCpnh6"
      }
    },
    {
      "cell_type": "code",
      "source": [
        "# 이미지 URL을 사용한 분석 예제\n",
        "response = client.responses.create(\n",
        "    model=\"gpt-4o\",\n",
        "    input=[\n",
        "        {\"role\": \"user\", \"content\": \"이 이미지에는 무엇이 있나요? 무엇이 몇개가 있는지 잘 분석하고, 자세히 설명해주시고 칼로리를 써주세요. 그리고 탄수화물,단백질, 지방의 영양소도 분석해주세요\"},\n",
        "        {\n",
        "            \"role\": \"user\",\n",
        "            \"content\": [\n",
        "                {\n",
        "                    \"type\": \"input_image\",\n",
        "                    \"image_url\": \"https://i.ytimg.com/vi/gc-kjplpdA4/maxresdefault.jpg\"\n",
        "                }\n",
        "            ]\n",
        "        }\n",
        "    ]\n",
        ")\n",
        "\n",
        "print(response.output_text)"
      ],
      "metadata": {
        "colab": {
          "base_uri": "https://localhost:8080/"
        },
        "id": "phiAgg9LIc9F",
        "outputId": "98a119f1-c2af-48d1-8d37-fb4dd8793e65"
      },
      "execution_count": null,
      "outputs": [
        {
          "output_type": "stream",
          "name": "stdout",
          "text": [
            "이 이미지에는 다음과 같은 것들이 있습니다:\n",
            "\n",
            "1. **팬케이크**: 총 7장의 팬케이크가 쌓여 있습니다.\n",
            "2. **버터**: 팬케이크 맨 위에 작은 버터 조각이 올려져 있습니다.\n",
            "3. **시럽**: 팬케이크 위에 시럽이 뿌려지고 있습니다.\n",
            "4. **커피**: 팬케이크 옆에 흰색 컵에 담긴 커피가 있습니다.\n",
            "\n",
            "### 영양 분석 (대략적인 값)\n",
            "\n",
            "- **팬케이크 한 장 (대략 70g 기준)**\n",
            "  - 칼로리: 약 90-100kcal\n",
            "  - 탄수화물: 약 15g\n",
            "  - 단백질: 약 2g\n",
            "  - 지방: 약 2.5g\n",
            "\n",
            "- **버터 (약 10g)**\n",
            "  - 칼로리: 약 70kcal\n",
            "  - 지방: 약 8g\n",
            "\n",
            "- **시럽 (약 30ml)**\n",
            "  - 칼로리: 약 100kcal\n",
            "  - 탄수화물: 약 26g\n",
            "\n",
            "라떼의 영양정보는 구성에 따라 크게 다르지만, 일반적으로 다음과 같습니다:\n",
            "\n",
            "- **라떼 1컵 (약 240ml)**\n",
            "  - 칼로리: 약 120kcal\n",
            "  - 탄수화물: 약 12g\n",
            "  - 단백질: 약 6g\n",
            "  - 지방: 약 6g\n",
            "\n",
            "위의 정보를 합산하면 이 전체 이미지의 칼로리는 약 900-1000kcal 정도가 될 수 있습니다. 각 성분의 정확한 함량은 재료와 양에 따라 달라질 수 있습니다.\n"
          ]
        }
      ]
    },
    {
      "cell_type": "markdown",
      "source": [
        "4️⃣ 웹 검색 기능 활용하기\n",
        "Responses API는 내장 도구를 통해 웹 검색 기능을 제공합니다. 이 기능을 사용하면 모델이 최신 정보에 접근할 수 있습니다.\n",
        "웹 검색으로 최신 정보 얻기"
      ],
      "metadata": {
        "id": "bqgQ5HCpAp7p"
      }
    },
    {
      "cell_type": "code",
      "source": [
        "# 웹 검색 도구 사용하기\n",
        "response = client.responses.create(\n",
        "    model=\"gpt-4o\",\n",
        "    tools=[{\"type\": \"web_search_preview\"}],  # 웹 검색 도구 활성화\n",
        "    input=\"\"\n",
        ")\n",
        "\n",
        "print(response.output_text)"
      ],
      "metadata": {
        "colab": {
          "base_uri": "https://localhost:8080/"
        },
        "id": "x4VX6-twAqo7",
        "outputId": "155b7511-4d80-41aa-b276-ce01f0e3b584"
      },
      "execution_count": null,
      "outputs": [
        {
          "output_type": "stream",
          "name": "stdout",
          "text": [
            "2024년 현재, 인공지능(AI) 개발 분야에서는 다양한 프레임워크와 도구들이 주목받고 있습니다. 특히, Mastra와 Flash Learn과 같은 새로운 프레임워크들이 등장하여 AI 애플리케이션 개발을 더욱 효율적으로 지원하고 있습니다.\n",
            "\n",
            "**Mastra**는 타입스크립트 기반의 AI 애플리케이션 구축을 위한 프레임워크로, 워크플로, 에이전트, RAG(회수 보강 생성), 통합, 평가 등 AI 개발에 필요한 주요 기능을 제공합니다. 이 프레임워크는 Vercel AI SDK를 통해 다양한 대형 언어 모델(LLM) 제공자를 지원하며, 에이전트가 언어 모델의 액션 순서를 결정할 수 있도록 돕고, 툴과 워크플로를 통해 복잡한 작업을 수행할 수 있게 합니다. 또한, RAG를 통해 지식베이스를 구축하고, 통합 기능을 통해 서드파티 서비스를 활용하며, LLM 결과를 자동 평가하여 성능을 비교할 수 있습니다. ([news.hada.io](https://news.hada.io/weekly/202508?utm_source=openai))\n",
            "\n",
            "**Flash Learn**은 워크플로우 및 ETL 파이프라인에서 데이터 변환, 분류, 요약, 재작성 등의 작업을 쉽게 수행할 수 있도록 돕는 라이브러리입니다. 이 라이브러리는 JSON 기반의 정의로 구성되어 있어 이해와 유지보수가 용이하며, OpenAI, DeepSeek, LiteLLM 등 다양한 LLM API와 호환됩니다. 또한, 1000개 calls/min의 대량 작업을 지원하며 멀티스텝 에이전트를 활용할 수 있습니다. ([news.hada.io](https://news.hada.io/weekly/202508?utm_source=openai))\n",
            "\n",
            "이러한 프레임워크들의 등장은 AI 개발의 효율성과 생산성을 높이는 데 기여하고 있으며, 다양한 산업 분야에서의 AI 적용을 가속화하고 있습니다. \n"
          ]
        }
      ]
    },
    {
      "cell_type": "code",
      "source": [
        "# 이미지 URL과 웹 검색을 함께 사용하여 분석 정확도 높이기\n",
        "response = client.responses.create(\n",
        "    model=\"gpt-4o\",\n",
        "    tools=[{\"type\": \"web_search_preview\"}],  # 웹 검색 도구 활성화\n",
        "    input=[\n",
        "        {\"role\": \"user\", \"content\": \"이 이미지에는 무엇이 있나요? 무엇이 몇개가 있는지 잘 분석하고, 자세히 설명해주시고 칼로리를 써주세요. 그리고 탄수화물,단백질, 지방의 영양소도 분석해주세요. MUST : 분석한 음식과 이미지를 토대로 웹검색 기능을 통해서 검색을 해주고 더 신뢰있게 정보를 찾아주세요.그리고 어디서 찾았는지 웹사이트도 알려주세요\"},\n",
        "        {\n",
        "            \"role\": \"user\",\n",
        "            \"content\": [\n",
        "                {\n",
        "                    \"type\": \"input_image\",\n",
        "                    \"image_url\": \"https://i.ytimg.com/vi/gc-kjplpdA4/maxresdefault.jpg\"\n",
        "                }\n",
        "            ]\n",
        "        }\n",
        "    ]\n",
        ")\n",
        "\n",
        "print(response.output_text)"
      ],
      "metadata": {
        "colab": {
          "base_uri": "https://localhost:8080/"
        },
        "id": "kAUD1dIHAwya",
        "outputId": "0ec2402f-b762-49a3-c4ff-0e3e5ed4cc0d"
      },
      "execution_count": null,
      "outputs": [
        {
          "output_type": "stream",
          "name": "stdout",
          "text": [
            "이 이미지에는 팬케이크가 쌓여 있고, 그 위에 버터와 시럽이 뿌려져 있습니다. 옆에는 커피로 보이는 음료가 있습니다. 팬케이크는 약 7~8개의 층으로 보여집니다.\n",
            "\n",
            "이 음식의 영양 정보는 다음과 같이 예측할 수 있습니다(대량의 일반적인 팬케이크 기준으로):\n",
            "\n",
            "- **칼로리**: 한 장당 약 60-90칼로리, 8장이라면 대략 480-720칼로리.\n",
            "- **탄수화물**: 한 장당 약 12-15g, 8장이라면 총 96-120g.\n",
            "- **단백질**: 한 장당 약 2-3g, 8장이라면 총 16-24g.\n",
            "- **지방**: 한 장당 약 1-2g, 8장이라면 총 8-16g.\n",
            "\n",
            "버터와 시럽의 양에 따라 칼로리와 지방 함량이 더 증가할 수 있습니다. 버터 조각이 약 50칼로리, 시럽은 2 테이블스푼에 약 100칼로리 정도입니다.\n",
            "\n",
            "정확한 정보를 위해 웹에서 검색해 보겠습니다. 잠시만 기다려 주세요.이미지에는 약 7~8장의 팬케이크가 쌓여 있으며, 그 위에 버터와 시럽이 뿌려져 있습니다. 옆에는 커피로 보이는 음료가 있습니다.\n",
            "\n",
            "팬케이크의 영양 성분은 조리 방법과 재료에 따라 다를 수 있지만, 일반적인 팬케이크의 100g당 영양 정보는 다음과 같습니다:\n",
            "\n",
            "- **칼로리**: 233kcal\n",
            "- **탄수화물**: 37.8g\n",
            "- **단백질**: 5.2g\n",
            "- **지방**: 6.8g\n",
            "\n",
            "([calo.kr](https://www.calo.kr/nutrition/172771/?utm_source=openai))\n",
            "\n",
            "한 장의 팬케이크(지름 10cm)는 약 86kcal이며, 탄수화물 10.91g, 단백질 2.58g, 지방 3.53g을 포함하고 있습니다.\n",
            "\n",
            "([fatsecret.kr](https://www.fatsecret.kr/%EC%B9%BC%EB%A1%9C%EB%A6%AC-%EC%98%81%EC%96%91%EC%86%8C/%EC%9D%BC%EB%B0%98%EB%AA%85/%EB%B2%84%ED%84%B0-%EB%B0%80%ED%81%AC-%ED%8C%AC%EC%BC%80%EC%9D%B5?utm_source=openai))\n",
            "\n",
            "버터와 시럽을 추가하면 칼로리와 지방 함량이 증가합니다. 예를 들어, 맥도날드의 팬케이크(버터와 시럽 포함) 100g당 영양 정보는 다음과 같습니다:\n",
            "\n",
            "- **칼로리**: 272kcal\n",
            "- **탄수화물**: 45.18g\n",
            "- **단백질**: 4.05g\n",
            "- **지방**: 8.06g\n",
            "\n",
            "([ko.healthy-food-near-me.com](https://ko.healthy-food-near-me.com/calorie-mcdonald-s-pancakes-with-two-balls-of-butter-and-syrup-chemical-composition-and-nutritional-value/?utm_source=openai))\n",
            "\n",
            "따라서, 7~8장의 팬케이크에 버터와 시럽을 추가한 전체 칼로리는 약 1,500~2,000kcal로 추정됩니다. 이는 개인의 일일 권장 칼로리 섭취량에 상당한 부분을 차지하므로, 섭취 시 주의가 필요합니다. \n"
          ]
        }
      ]
    }
  ]
}