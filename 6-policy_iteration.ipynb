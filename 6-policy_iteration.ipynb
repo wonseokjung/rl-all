{
 "cells": [
  {
   "cell_type": "markdown",
   "id": "553078ed-eb92-4441-83ef-5077d60950b0",
   "metadata": {},
   "source": [
    "### 6강 Policy Iteration\n",
    "\n",
    "안녕하세요, 학생 여러분! 오늘 우리는 인공지능 에이전트가 게임을 학습하는 또 다른 방법, 바로 Policy Iteration에 대해 배워보겠습니다.\n",
    "\n",
    "이번 강의에서는 FrozenLake-v1 환경을 사용하여 Policy Iteration 알고리즘을 적용해볼 것입니다. FrozenLake는 에이전트가 시작 지점(S)에서 목적지(G)까지 도달해야 하는, 얼음(H)과 구멍(F)이 있는 격자 환경입니다. 에이전트는 목적지에 도달하기 위해 안전한 경로를 찾아야 하며, 얼음 위를 걷다가 구멍에 빠지면 게임이 종료됩니다.\n",
    "\n",
    "Policy Iteration은 강화학습의 중요한 방법 중 하나로, 주어진 환경에서 최적의 정책을 찾아가는 과정입니다. 이 방법은 크게 두 단계로 나뉩니다: 첫 번째는 현재 정책에 대한 가치 함수를 평가하는 정책 평가(Policy Evaluation) 단계와, 두 번째는 가치 함수를 바탕으로 정책을 개선하는 정책 개선(Policy Improvement) 단계입니다.\n",
    "\n",
    "Policy Evaluation\n",
    "정책 평가 단계에서는 현재 정책 하에 각 상태의 가치를 계산합니다. 이를 통해 어떤 상태에서 어떤 행동을 취하는 것이 장기적으로 얼마나 가치가 있는지 평가할 수 있습니다.\n",
    "\n",
    "Policy Improvement\n",
    "가치 함수를 계산한 후, 이 정보를 사용하여 각 상태에서 더 좋은 행동을 선택하는 새로운 정책을 만듭니다. 이 과정을 반복하면, 점차 최적의 정책에 도달하게 됩니다.\n",
    "\n",
    "FrozenLake 환경에서 Policy Iteration을 적용함으로써, 우리는 에이전트가 어떻게 학습하고 최적의 경로를 찾아가는지 관찰할 수 있습니다. 이는 강화학습에서 정책을 직접 평가하고 개선하는 방법의 효율성을 이해하는 데 도움이 될 것입니다.\n",
    "\n",
    "자, 그럼 FrozenLake-v1 환경에서 Policy Iteration을 적용해보며, 이 강력한 강화학습 기법이 실제로 어떻게 작동하는지 함께 살펴보도록 하겠습니다. 이 과정을 통해, 강화학습의 핵심 개념들과 이를 통한 문제 해결 방법에 대한 깊은 이해를 얻을 수 있을 것입니다."
   ]
  },
  {
   "cell_type": "markdown",
   "id": "61c856be-ac06-4cc6-8bbc-76e95ac82252",
   "metadata": {},
   "source": [
    "\n",
    "# 1.Step 1 설치\n",
    "\n",
    "필요한 라이브러리 설치\n",
    "주피터 노트북에서는 `!`를 사용하여 터미널 명령을 실행할 수 있습니다."
   ]
  },
  {
   "cell_type": "code",
   "execution_count": 7,
   "id": "016a4759-9133-4aeb-96a4-80236635dcbb",
   "metadata": {},
   "outputs": [
    {
     "name": "stdout",
     "output_type": "stream",
     "text": [
      "Defaulting to user installation because normal site-packages is not writeable\n",
      "Requirement already satisfied: gym in /Users/wonseokjung/Library/Python/3.9/lib/python/site-packages (0.26.2)\n",
      "Requirement already satisfied: cloudpickle>=1.2.0 in /Users/wonseokjung/Library/Python/3.9/lib/python/site-packages (from gym) (3.0.0)\n",
      "Requirement already satisfied: gym-notices>=0.0.4 in /Users/wonseokjung/Library/Python/3.9/lib/python/site-packages (from gym) (0.0.8)\n",
      "Requirement already satisfied: importlib-metadata>=4.8.0 in /Users/wonseokjung/Library/Python/3.9/lib/python/site-packages (from gym) (7.0.1)\n",
      "Requirement already satisfied: numpy>=1.18.0 in /Users/wonseokjung/Library/Python/3.9/lib/python/site-packages (from gym) (1.26.4)\n",
      "Requirement already satisfied: zipp>=0.5 in /Users/wonseokjung/Library/Python/3.9/lib/python/site-packages (from importlib-metadata>=4.8.0->gym) (3.17.0)\n",
      "\u001b[33mWARNING: You are using pip version 21.2.4; however, version 24.0 is available.\n",
      "You should consider upgrading via the '/Library/Developer/CommandLineTools/usr/bin/python3 -m pip install --upgrade pip' command.\u001b[0m\n",
      "Defaulting to user installation because normal site-packages is not writeable\n",
      "Requirement already satisfied: gym_super_mario_bros in /Users/wonseokjung/Library/Python/3.9/lib/python/site-packages (7.4.0)\n",
      "Requirement already satisfied: nes_py in /Users/wonseokjung/Library/Python/3.9/lib/python/site-packages (8.2.1)\n",
      "Requirement already satisfied: numpy>=1.18.5 in /Users/wonseokjung/Library/Python/3.9/lib/python/site-packages (from nes_py) (1.26.4)\n",
      "Requirement already satisfied: tqdm>=4.48.2 in /Users/wonseokjung/Library/Python/3.9/lib/python/site-packages (from nes_py) (4.66.2)\n",
      "Requirement already satisfied: pyglet<=1.5.21,>=1.4.0 in /Users/wonseokjung/Library/Python/3.9/lib/python/site-packages (from nes_py) (1.5.21)\n",
      "Requirement already satisfied: gym>=0.17.2 in /Users/wonseokjung/Library/Python/3.9/lib/python/site-packages (from nes_py) (0.26.2)\n",
      "Requirement already satisfied: gym-notices>=0.0.4 in /Users/wonseokjung/Library/Python/3.9/lib/python/site-packages (from gym>=0.17.2->nes_py) (0.0.8)\n",
      "Requirement already satisfied: cloudpickle>=1.2.0 in /Users/wonseokjung/Library/Python/3.9/lib/python/site-packages (from gym>=0.17.2->nes_py) (3.0.0)\n",
      "Requirement already satisfied: importlib-metadata>=4.8.0 in /Users/wonseokjung/Library/Python/3.9/lib/python/site-packages (from gym>=0.17.2->nes_py) (7.0.1)\n",
      "Requirement already satisfied: zipp>=0.5 in /Users/wonseokjung/Library/Python/3.9/lib/python/site-packages (from importlib-metadata>=4.8.0->gym>=0.17.2->nes_py) (3.17.0)\n",
      "\u001b[33mWARNING: You are using pip version 21.2.4; however, version 24.0 is available.\n",
      "You should consider upgrading via the '/Library/Developer/CommandLineTools/usr/bin/python3 -m pip install --upgrade pip' command.\u001b[0m\n",
      "Defaulting to user installation because normal site-packages is not writeable\n",
      "Requirement already satisfied: gym in /Users/wonseokjung/Library/Python/3.9/lib/python/site-packages (0.26.2)\n",
      "Requirement already satisfied: gym-notices>=0.0.4 in /Users/wonseokjung/Library/Python/3.9/lib/python/site-packages (from gym) (0.0.8)\n",
      "Requirement already satisfied: numpy>=1.18.0 in /Users/wonseokjung/Library/Python/3.9/lib/python/site-packages (from gym) (1.26.4)\n",
      "Requirement already satisfied: importlib-metadata>=4.8.0 in /Users/wonseokjung/Library/Python/3.9/lib/python/site-packages (from gym) (7.0.1)\n",
      "Requirement already satisfied: cloudpickle>=1.2.0 in /Users/wonseokjung/Library/Python/3.9/lib/python/site-packages (from gym) (3.0.0)\n",
      "Requirement already satisfied: zipp>=0.5 in /Users/wonseokjung/Library/Python/3.9/lib/python/site-packages (from importlib-metadata>=4.8.0->gym) (3.17.0)\n",
      "\u001b[33mWARNING: You are using pip version 21.2.4; however, version 24.0 is available.\n",
      "You should consider upgrading via the '/Library/Developer/CommandLineTools/usr/bin/python3 -m pip install --upgrade pip' command.\u001b[0m\n"
     ]
    }
   ],
   "source": [
    "!pip3 install --upgrade gym\n",
    "!pip3 install gym_super_mario_bros nes_py\n",
    "!pip3 install gym"
   ]
  },
  {
   "cell_type": "markdown",
   "id": "fce9474c-0ac6-45a9-a286-ae633d9140d3",
   "metadata": {},
   "source": [
    "# Step 2 필요한 라이브러리 임포트\n",
    "\n",
    "\n",
    "gym: 강화학습 환경을 제공하는 라이브러리\n",
    "gym_super_mario_bros: Super Mario Bros 게임 환경\n",
    "JoypadSpace, SIMPLE_MOVEMENT: 조작과 행동을 단순화하기 위한 도구들"
   ]
  },
  {
   "cell_type": "code",
   "execution_count": 8,
   "id": "a13b88b0-b83e-46ab-b30e-9722d8a09204",
   "metadata": {},
   "outputs": [],
   "source": [
    "from nes_py.wrappers import JoypadSpace\n",
    "import gym_super_mario_bros\n",
    "from gym_super_mario_bros.actions import SIMPLE_MOVEMENT\n",
    "import gym\n"
   ]
  },
  {
   "cell_type": "code",
   "execution_count": 11,
   "id": "ed53dec7-5107-40d6-aea1-eb592e6fbc4b",
   "metadata": {},
   "outputs": [
    {
     "name": "stdout",
     "output_type": "stream",
     "text": [
      "Policy optimized after 2 iterations\n",
      "Optimized Policy:\n",
      "[[1. 0. 0. 0.]\n",
      " [0. 0. 0. 1.]\n",
      " [0. 0. 0. 1.]\n",
      " [0. 0. 0. 1.]\n",
      " [1. 0. 0. 0.]\n",
      " [1. 0. 0. 0.]\n",
      " [1. 0. 0. 0.]\n",
      " [1. 0. 0. 0.]\n",
      " [0. 0. 0. 1.]\n",
      " [0. 1. 0. 0.]\n",
      " [1. 0. 0. 0.]\n",
      " [1. 0. 0. 0.]\n",
      " [1. 0. 0. 0.]\n",
      " [0. 0. 1. 0.]\n",
      " [0. 1. 0. 0.]\n",
      " [1. 0. 0. 0.]]\n"
     ]
    }
   ],
   "source": [
    "import gymnasium as gym\n",
    "import numpy as np\n",
    "\n",
    "def policy_evaluation(policy, env, discount_factor=0.99, theta=1e-10):  # Discount factor와 theta 값 조정\n",
    "    value_table = np.zeros(env.observation_space.n)\n",
    "    while True:\n",
    "        delta = 0\n",
    "        for state in range(env.observation_space.n):\n",
    "            v = 0\n",
    "            for action in range(env.action_space.n):\n",
    "                for prob, next_state, reward, done in env.P[state][action]:\n",
    "                    action_prob = policy[state][action]\n",
    "                    v += action_prob * prob * (reward + discount_factor * value_table[next_state])\n",
    "            delta = max(delta, np.abs(value_table[state] - v))\n",
    "            value_table[state] = v\n",
    "        if delta < theta:\n",
    "            break\n",
    "    return value_table\n",
    "\n",
    "def policy_improvement(env, value_table, discount_factor=0.99):  # Discount factor 조정\n",
    "    policy = np.zeros([env.observation_space.n, env.action_space.n])\n",
    "    for state in range(env.observation_space.n):\n",
    "        q_values = np.zeros(env.action_space.n)\n",
    "        for action in range(env.action_space.n):\n",
    "            for prob, next_state, reward, done in env.P[state][action]:\n",
    "                q_values[action] += prob * (reward + discount_factor * value_table[next_state])\n",
    "        best_action = np.argmax(q_values)\n",
    "        policy[state, :] = 0\n",
    "        policy[state, best_action] = 1.0\n",
    "    return policy\n",
    "\n",
    "env = gym.make('FrozenLake-v1', is_slippery=True, render_mode=\"human\")\n",
    "policy = np.ones([env.observation_space.n, env.action_space.n]) / env.action_space.n\n",
    "iterations = 0\n",
    "env.reset()\n",
    "\n",
    "while True:\n",
    "    value_table = policy_evaluation(policy, env)\n",
    "    new_policy = policy_improvement(env, value_table)\n",
    "    if np.array_equal(new_policy, policy):\n",
    "        break\n",
    "    policy = new_policy\n",
    "    iterations += 1\n",
    "\n",
    "env.render()\n",
    "print(f\"Policy optimized after {iterations} iterations\")\n",
    "print(\"Optimized Policy:\")\n",
    "print(policy)\n",
    "env.close()\n"
   ]
  }
 ],
 "metadata": {
  "kernelspec": {
   "display_name": "Python 3 (ipykernel)",
   "language": "python",
   "name": "python3"
  },
  "language_info": {
   "codemirror_mode": {
    "name": "ipython",
    "version": 3
   },
   "file_extension": ".py",
   "mimetype": "text/x-python",
   "name": "python",
   "nbconvert_exporter": "python",
   "pygments_lexer": "ipython3",
   "version": "3.9.6"
  }
 },
 "nbformat": 4,
 "nbformat_minor": 5
}
